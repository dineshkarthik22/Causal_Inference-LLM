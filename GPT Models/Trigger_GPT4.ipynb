{
 "cells": [
  {
   "cell_type": "code",
   "execution_count": null,
   "id": "962e7234",
   "metadata": {},
   "outputs": [],
   "source": [
    "# %pip install openai pandas tqdm\n",
    "# %pip install efficiency\n",
    "# %pip install python-dotenv\n",
    "# %pip install openai==0.28.0"
   ]
  },
  {
   "cell_type": "code",
   "execution_count": null,
   "id": "1921a382",
   "metadata": {},
   "outputs": [],
   "source": [
    "import subprocess\n",
    "\n",
    "script_path = \"run_gpt_v1.5.py\"\n",
    "result = subprocess.run([\"python\", script_path], capture_output=True, text=True)\n",
    "\n",
    "# Print the output\n",
    "print(result.stdout)\n",
    "print(result.stderr)"
   ]
  },
  {
   "cell_type": "code",
   "execution_count": null,
   "id": "dc22f337",
   "metadata": {},
   "outputs": [],
   "source": [
    "import os\n",
    "from dotenv import load_dotenv\n",
    "\n",
    "load_dotenv(dotenv_path='.env')\n",
    "OPENAI_API_KEY = os.getenv('OPENAI_API_KEY')\n",
    "\n",
    "if not OPENAI_API_KEY:\n",
    "    raise ValueError(\"API key not found. Ensure it is set in the .env file\")\n",
    "\n",
    "from efficiency.nlp import Chatbot\n",
    "\n",
    "chatbot = Chatbot(\n",
    "    model_version=\"gpt-4\",\n",
    "    max_tokens=200,\n",
    "    output_file=\"./gpt4.csv\",\n",
    "    system_prompt=\"You are an expert in causal inference...\",\n",
    "    openai_key_alias=OPENAI_API_KEY\n",
    ")\n",
    "\n",
    "response = chatbot.ask(\"Imagine a self-contained, hypothetical world with only the following conditions, and without any unmentioned factors or causal relationships: Eating citrus has a direct effect on vitmain C. Vitmain C has a direct effect on curly hair. For patients not consuming citrus, the probability of curly hair is 61%. For patients consuming citrus, the probability of curly hair is 45%. Does eating citrus positively affect curly hair through vitmain C? Start your answer with Yes or No, followed by additional reasoning or evidence to support your explanation.\")\n",
    "print(response)"
   ]
  }
 ],
 "metadata": {
  "kernelspec": {
   "display_name": "Python 3 (ipykernel)",
   "language": "python",
   "name": "python3"
  },
  "language_info": {
   "codemirror_mode": {
    "name": "ipython",
    "version": 3
   },
   "file_extension": ".py",
   "mimetype": "text/x-python",
   "name": "python",
   "nbconvert_exporter": "python",
   "pygments_lexer": "ipython3",
   "version": "3.9.5"
  }
 },
 "nbformat": 4,
 "nbformat_minor": 5
}
