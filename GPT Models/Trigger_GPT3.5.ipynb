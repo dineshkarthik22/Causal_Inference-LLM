{
 "cells": [
  {
   "cell_type": "code",
   "execution_count": null,
   "id": "cc85ff9e",
   "metadata": {},
   "outputs": [],
   "source": [
    " %pip install openai pandas tqdm\n",
    " %pip install efficiency\n",
    " %pip install python-dotenv\n",
    " %pip install openai==0.28.0"
   ]
  },
  {
   "cell_type": "code",
   "execution_count": null,
   "id": "1f01cc9b",
   "metadata": {
    "scrolled": false
   },
   "outputs": [],
   "source": [
    "import subprocess\n",
    "\n",
    "script_path = \"run_gpt3.5_v1.5.py\"\n",
    "result = subprocess.run([\"python\", script_path], capture_output=True, text=True)\n",
    "\n",
    "# Print the output\n",
    "print(result.stdout)\n",
    "print(result.stderr)"
   ]
  },
  {
   "cell_type": "code",
   "execution_count": null,
   "id": "86573998",
   "metadata": {},
   "outputs": [],
   "source": [
    "#%pip install openai==0.28.0\n",
    "\n",
    "import os\n",
    "from dotenv import load_dotenv\n",
    "\n",
    "load_dotenv(dotenv_path='.env')\n",
    "OPENAI_API_KEY = os.getenv('OPENAI_API_KEY')\n",
    "\n",
    "if not OPENAI_API_KEY:\n",
    "    raise ValueError(\"API key not found. Ensure it is set in the .env file\")\n",
    "\n",
    "from efficiency.nlp import Chatbot\n",
    "\n",
    "chatbot = Chatbot(\n",
    "    model_version=\"gpt-3.5-turbo\",\n",
    "    max_tokens=200,\n",
    "    output_file=\"/path/to/output/file.csv\",\n",
    "    system_prompt=\"You are an expert in causal inference...\",\n",
    "    openai_key_alias=OPENAI_API_KEY\n",
    ")\n",
    "\n",
    "response = chatbot.ask(\"What is causal inference?\")\n",
    "print(response)"
   ]
  },
  {
   "cell_type": "code",
   "execution_count": null,
   "id": "6ecd631b",
   "metadata": {},
   "outputs": [],
   "source": []
  }
 ],
 "metadata": {
  "kernelspec": {
   "display_name": "Python 3 (ipykernel)",
   "language": "python",
   "name": "python3"
  },
  "language_info": {
   "codemirror_mode": {
    "name": "ipython",
    "version": 3
   },
   "file_extension": ".py",
   "mimetype": "text/x-python",
   "name": "python",
   "nbconvert_exporter": "python",
   "pygments_lexer": "ipython3",
   "version": "3.9.5"
  }
 },
 "nbformat": 4,
 "nbformat_minor": 5
}
